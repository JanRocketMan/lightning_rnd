{
 "cells": [
  {
   "cell_type": "markdown",
   "metadata": {},
   "source": [
    "## Проект: RND Exploratory Behavior\n",
    "\n",
    "**Команда: Сергей Червонцев, Иван Провилков**\n"
   ]
  },
  {
   "cell_type": "markdown",
   "metadata": {},
   "source": [
    "Мы исследуем exploration поведение агента используя \"Random Network Distillation (RND)\" (https://arxiv.org/abs/1810.12894). \n",
    "\n",
    "Интересно узнать, как ведет себя агент не имея награды от среды, когда он пользуется только своим внутренним \"интересом\", который обеспечивается с помощью RND. Меньше ли получается итоговое качество, сколько времени занимает такое обучение и какие факторы на него влияют?"
   ]
  },
  {
   "cell_type": "markdown",
   "metadata": {},
   "source": [
    "### Вначале мы поставили себе задачу написать агента и воспроизвести результаты статьи про RND на игре \"Montezuma revenge\".\n",
    "\n",
    "### Описание среды:\n",
    "\n",
    "Montezuma revenge это игра Atari, в которой агент должен пройти через множество комнат (всего их 99) в лабиринте, чтобы найти сокровище. Определенные комнаты закрыты дверями и чтобы туда попасть нужно найти и подобрать ключ. В комнатах есть монстры, которые убивают персонажа и их нужно избегать. Также персонаж умирает от падения с высоты или попадания в ловушку (падение в лаву). В комнатах есть различные алмазы, которые игрок может подбирать, а также снаряжение, которое можно надеть (факелы, мечи...). У персонажа есть 5 жизней, то есть он может 5 раз умереть до начала новой игры.\n",
    "\n",
    "Состояния среды: RGB Картинка 210x160 пикселей (мы рескейлим до 84х84)\n",
    "\n",
    "Пространство действий: агент может бегать в разные стороны и прыгать, всего 18 Discrete действий.\n",
    "\n",
    "Extrinsic Reward: \n"
   ]
  },
  {
   "cell_type": "markdown",
   "metadata": {},
   "source": [
    "### Графики обучения:"
   ]
  },
  {
   "cell_type": "markdown",
   "metadata": {},
   "source": [
    "У нас есть две основные модели. Первая учится с комбинированным ревардом как от среды, так и от случайной сети. Вторая модель учится только с ревардом от случайной сети."
   ]
  },
  {
   "cell_type": "markdown",
   "metadata": {},
   "source": [
    "Награду от среды мы считаем даже если она не участвует в обучении агента.\n",
    "\n",
    "Обозначения в логах, на которые надо обратить внимание:\n",
    "\n",
    "int_reward_per_episode: RND награда в зависимости от эпизода\n",
    "\n",
    "int_reward_per_steps: RND награда в зависимости от шага (1 шаг -- одно обновление параметров)\n",
    "\n",
    "num_steps: количество шагов от эпизода\n",
    "\n",
    "reward_per_rollout: награда агента от среды в зависимости от шага\n",
    "\n",
    "reward_per_episode: награда агента от среды в зависимости от эпизода \n"
   ]
  },
  {
   "cell_type": "markdown",
   "metadata": {},
   "source": [
    "Model with extrinsic + intrinsic reward:\n"
   ]
  },
  {
   "cell_type": "markdown",
   "metadata": {},
   "source": [
    "Model with only intrinsic reward:\n",
    "\n"
   ]
  },
  {
   "cell_type": "markdown",
   "metadata": {},
   "source": [
    "### Результаты базового запуска:\n",
    "\n",
    "**После какого-то времени дебага и исправления возникающих проблем, мы смогли запустить агента с лоссом из статьи RND. Как видно из графиков обучения и видео (можно посмотреть на странице проекта гитхаба) агент с комбинированным ревардом научился заходить в 9 комнат.**\n",
    "\n",
    "**Затем мы запустили агента только с intrinsic reward. Этот агент научился заходить в 3 комнаты, за то же время обучения.**"
   ]
  },
  {
   "cell_type": "markdown",
   "metadata": {},
   "source": [
    "### Гиперпараметры:\n",
    "\n",
    "Все гиперпараметры эксперимента можно посмотреть в config.yaml\n",
    "\n",
    "В случае \"only intrinsic\" обучения ExtCoeff: 0.0, в случае обычного обучения ExtCoeff: 1.0\n",
    "\n",
    "#### Немного о параметрах:\n",
    "\n",
    "**NumWorkers: у нас реализовано многопоточное выполнение действий сразу NumWorkers агентами с одинаковыми весами для накопления статистик для обучения.**\n",
    "\n",
    "**Rollout steps: количество шагов, которые проходит каждый агент для одного step оптимайзера**\n"
   ]
  },
  {
   "cell_type": "code",
   "execution_count": 26,
   "metadata": {},
   "outputs": [
    {
     "name": "stdout",
     "output_type": "stream",
     "text": [
      "EnvName: MontezumaRevengeNoFrameskip-v4\r\n",
      "MaxStepsPerEpisode: 4500\r\n",
      "ImageHeight: 84\r\n",
      "ImageWidth: 84\r\n",
      "UseStickyAction: True\r\n",
      "StickyActionProb: 0.25\r\n",
      "\r\n",
      "NumWorkers: 128\r\n",
      "IntrinsicRewardDiscount: 0.99\r\n",
      "NumInitSteps: 1024\r\n",
      "\r\n",
      "RolloutSteps: 128\r\n",
      "ExtRewardDiscount: 0.999\r\n",
      "IntRewardDiscount: 0.99\r\n",
      "ExtCoeff: 0.0\r\n",
      "IntCoeff: 1.0\r\n",
      "LearningRate: 0.0001\r\n",
      "ClipGradNorm: 10.0\r\n",
      "BatchSize: 4096\r\n",
      "EpochSteps: 4\r\n",
      "SavePath: \"/home/chervontsev/checkpoints/RndAgentFast.ckpt\"\r\n",
      "\r\n",
      "NumEpochs: 10000\r\n",
      "\r\n",
      "RNDUpdateProportion: 0.125\r\n",
      "PPOEntropyCoeff: 0.001\r\n",
      "PPORewardEps: 0.1\r\n",
      "PPOAdvLambda: 0.95\r\n",
      "UseVTraceCorrection: False\r\n",
      "\r\n",
      "UseTPU: False\r\n"
     ]
    }
   ],
   "source": [
    "!cat config.yaml"
   ]
  },
  {
   "cell_type": "markdown",
   "metadata": {},
   "source": [
    "### Для запуска модели нужно установить нужные библиотеки, мы используем python3.6"
   ]
  },
  {
   "cell_type": "code",
   "execution_count": 23,
   "metadata": {},
   "outputs": [
    {
     "name": "stdout",
     "output_type": "stream",
     "text": [
      "Requirement already satisfied: absl-py==0.9.0 in /home/iv-provilkov/RND/lib/python3.6/site-packages (from -r requirements.txt (line 1))\n",
      "Requirement already satisfied: atari-py==0.2.6 in /home/iv-provilkov/RND/lib/python3.6/site-packages (from -r requirements.txt (line 2))\n",
      "Requirement already satisfied: attrs==19.3.0 in /home/iv-provilkov/RND/lib/python3.6/site-packages (from -r requirements.txt (line 3))\n",
      "Requirement already satisfied: backcall==0.1.0 in /home/iv-provilkov/RND/lib/python3.6/site-packages (from -r requirements.txt (line 4))\n",
      "Requirement already satisfied: bleach==3.1.5 in /home/iv-provilkov/RND/lib/python3.6/site-packages (from -r requirements.txt (line 5))\n",
      "Requirement already satisfied: cachetools==4.1.0 in /home/iv-provilkov/RND/lib/python3.6/site-packages (from -r requirements.txt (line 6))\n",
      "Requirement already satisfied: certifi==2020.4.5.1 in /home/iv-provilkov/RND/lib/python3.6/site-packages (from -r requirements.txt (line 7))\n",
      "Requirement already satisfied: chardet==3.0.4 in /home/iv-provilkov/RND/lib/python3.6/site-packages (from -r requirements.txt (line 8))\n",
      "Requirement already satisfied: cloudpickle==1.3.0 in /home/iv-provilkov/RND/lib/python3.6/site-packages (from -r requirements.txt (line 9))\n",
      "Requirement already satisfied: decorator==4.4.2 in /home/iv-provilkov/RND/lib/python3.6/site-packages (from -r requirements.txt (line 10))\n",
      "Requirement already satisfied: defusedxml==0.6.0 in /home/iv-provilkov/RND/lib/python3.6/site-packages (from -r requirements.txt (line 11))\n",
      "Requirement already satisfied: entrypoints==0.3 in /home/iv-provilkov/RND/lib/python3.6/site-packages (from -r requirements.txt (line 12))\n",
      "Requirement already satisfied: future==0.18.2 in /home/iv-provilkov/RND/lib/python3.6/site-packages (from -r requirements.txt (line 13))\n",
      "Requirement already satisfied: google-auth==1.14.2 in /home/iv-provilkov/RND/lib/python3.6/site-packages (from -r requirements.txt (line 14))\n",
      "Requirement already satisfied: google-auth-oauthlib==0.4.1 in /home/iv-provilkov/RND/lib/python3.6/site-packages (from -r requirements.txt (line 15))\n",
      "Requirement already satisfied: grpcio==1.28.1 in /home/iv-provilkov/RND/lib/python3.6/site-packages (from -r requirements.txt (line 16))\n",
      "Requirement already satisfied: gym==0.17.1 in /home/iv-provilkov/RND/lib/python3.6/site-packages (from -r requirements.txt (line 17))\n",
      "Requirement already satisfied: gym-super-mario-bros==7.3.0 in /home/iv-provilkov/RND/lib/python3.6/site-packages (from -r requirements.txt (line 18))\n",
      "Requirement already satisfied: idna==2.9 in /home/iv-provilkov/RND/lib/python3.6/site-packages (from -r requirements.txt (line 19))\n",
      "Requirement already satisfied: importlib-metadata==1.6.0 in /home/iv-provilkov/RND/lib/python3.6/site-packages (from -r requirements.txt (line 20))\n",
      "Requirement already satisfied: ipykernel==5.3.0 in /home/iv-provilkov/RND/lib/python3.6/site-packages (from -r requirements.txt (line 21))\n",
      "Requirement already satisfied: ipython==7.14.0 in /home/iv-provilkov/RND/lib/python3.6/site-packages (from -r requirements.txt (line 22))\n",
      "Requirement already satisfied: ipython-genutils==0.2.0 in /home/iv-provilkov/RND/lib/python3.6/site-packages (from -r requirements.txt (line 23))\n",
      "Requirement already satisfied: ipywidgets==7.5.1 in /home/iv-provilkov/RND/lib/python3.6/site-packages (from -r requirements.txt (line 24))\n",
      "Requirement already satisfied: jedi==0.17.0 in /home/iv-provilkov/RND/lib/python3.6/site-packages (from -r requirements.txt (line 25))\n",
      "Requirement already satisfied: Jinja2==2.11.2 in /home/iv-provilkov/RND/lib/python3.6/site-packages (from -r requirements.txt (line 26))\n",
      "Requirement already satisfied: jsonschema==3.2.0 in /home/iv-provilkov/RND/lib/python3.6/site-packages (from -r requirements.txt (line 27))\n",
      "Requirement already satisfied: jupyter==1.0.0 in /home/iv-provilkov/RND/lib/python3.6/site-packages (from -r requirements.txt (line 28))\n",
      "Requirement already satisfied: jupyter-client==6.1.3 in /home/iv-provilkov/RND/lib/python3.6/site-packages (from -r requirements.txt (line 29))\n",
      "Requirement already satisfied: jupyter-console==6.1.0 in /home/iv-provilkov/RND/lib/python3.6/site-packages (from -r requirements.txt (line 30))\n",
      "Requirement already satisfied: jupyter-core==4.6.3 in /home/iv-provilkov/RND/lib/python3.6/site-packages (from -r requirements.txt (line 31))\n",
      "Requirement already satisfied: Markdown==3.2.1 in /home/iv-provilkov/RND/lib/python3.6/site-packages (from -r requirements.txt (line 32))\n",
      "Requirement already satisfied: MarkupSafe==1.1.1 in /home/iv-provilkov/RND/lib/python3.6/site-packages (from -r requirements.txt (line 33))\n",
      "Requirement already satisfied: mistune==0.8.4 in /home/iv-provilkov/RND/lib/python3.6/site-packages (from -r requirements.txt (line 34))\n",
      "Requirement already satisfied: nbconvert==5.6.1 in /home/iv-provilkov/RND/lib/python3.6/site-packages (from -r requirements.txt (line 35))\n",
      "Requirement already satisfied: nbformat==5.0.6 in /home/iv-provilkov/RND/lib/python3.6/site-packages (from -r requirements.txt (line 36))\n",
      "Requirement already satisfied: nes-py==8.1.1 in /home/iv-provilkov/RND/lib/python3.6/site-packages (from -r requirements.txt (line 37))\n",
      "Requirement already satisfied: notebook==6.0.3 in /home/iv-provilkov/RND/lib/python3.6/site-packages (from -r requirements.txt (line 38))\n",
      "Requirement already satisfied: numpy==1.18.4 in /home/iv-provilkov/RND/lib/python3.6/site-packages (from -r requirements.txt (line 39))\n",
      "Requirement already satisfied: oauthlib==3.1.0 in /home/iv-provilkov/RND/lib/python3.6/site-packages (from -r requirements.txt (line 40))\n",
      "Requirement already satisfied: opencv-python==4.2.0.34 in /home/iv-provilkov/RND/lib/python3.6/site-packages (from -r requirements.txt (line 41))\n",
      "Requirement already satisfied: packaging==20.4 in /home/iv-provilkov/RND/lib/python3.6/site-packages (from -r requirements.txt (line 42))\n",
      "Requirement already satisfied: pandocfilters==1.4.2 in /home/iv-provilkov/RND/lib/python3.6/site-packages (from -r requirements.txt (line 43))\n",
      "Requirement already satisfied: parso==0.7.0 in /home/iv-provilkov/RND/lib/python3.6/site-packages (from -r requirements.txt (line 44))\n",
      "Requirement already satisfied: pexpect==4.8.0 in /home/iv-provilkov/RND/lib/python3.6/site-packages (from -r requirements.txt (line 45))\n",
      "Requirement already satisfied: pickleshare==0.7.5 in /home/iv-provilkov/RND/lib/python3.6/site-packages (from -r requirements.txt (line 46))\n",
      "Requirement already satisfied: Pillow==7.1.2 in /home/iv-provilkov/RND/lib/python3.6/site-packages (from -r requirements.txt (line 47))\n",
      "Requirement already satisfied: pkg-resources==0.0.0 in /home/iv-provilkov/RND/lib/python3.6/site-packages (from -r requirements.txt (line 48))\n",
      "Requirement already satisfied: prometheus-client==0.7.1 in /home/iv-provilkov/RND/lib/python3.6/site-packages (from -r requirements.txt (line 49))\n",
      "Requirement already satisfied: prompt-toolkit==3.0.5 in /home/iv-provilkov/RND/lib/python3.6/site-packages (from -r requirements.txt (line 50))\n",
      "Requirement already satisfied: protobuf==3.11.3 in /home/iv-provilkov/RND/lib/python3.6/site-packages (from -r requirements.txt (line 51))\n",
      "Requirement already satisfied: ptyprocess==0.6.0 in /home/iv-provilkov/RND/lib/python3.6/site-packages (from -r requirements.txt (line 52))\n",
      "Requirement already satisfied: pyasn1==0.4.8 in /home/iv-provilkov/RND/lib/python3.6/site-packages (from -r requirements.txt (line 53))\n",
      "Requirement already satisfied: pyasn1-modules==0.2.8 in /home/iv-provilkov/RND/lib/python3.6/site-packages (from -r requirements.txt (line 54))\n",
      "Requirement already satisfied: pyglet==1.5.0 in /home/iv-provilkov/RND/lib/python3.6/site-packages (from -r requirements.txt (line 55))\n",
      "Requirement already satisfied: Pygments==2.6.1 in /home/iv-provilkov/RND/lib/python3.6/site-packages (from -r requirements.txt (line 56))\n",
      "Requirement already satisfied: pyparsing==2.4.7 in /home/iv-provilkov/RND/lib/python3.6/site-packages (from -r requirements.txt (line 57))\n",
      "Requirement already satisfied: pyrsistent==0.16.0 in /home/iv-provilkov/RND/lib/python3.6/site-packages (from -r requirements.txt (line 58))\n",
      "Requirement already satisfied: python-dateutil==2.8.1 in /home/iv-provilkov/RND/lib/python3.6/site-packages (from -r requirements.txt (line 59))\n",
      "Requirement already satisfied: PyYAML==5.3.1 in /home/iv-provilkov/RND/lib/python3.6/site-packages (from -r requirements.txt (line 60))\n",
      "Requirement already satisfied: pyzmq==19.0.1 in /home/iv-provilkov/RND/lib/python3.6/site-packages (from -r requirements.txt (line 61))\n",
      "Requirement already satisfied: qtconsole==4.7.4 in /home/iv-provilkov/RND/lib/python3.6/site-packages (from -r requirements.txt (line 62))\n",
      "Requirement already satisfied: QtPy==1.9.0 in /home/iv-provilkov/RND/lib/python3.6/site-packages (from -r requirements.txt (line 63))\n",
      "Requirement already satisfied: requests==2.23.0 in /home/iv-provilkov/RND/lib/python3.6/site-packages (from -r requirements.txt (line 64))\n"
     ]
    },
    {
     "name": "stdout",
     "output_type": "stream",
     "text": [
      "Requirement already satisfied: requests-oauthlib==1.3.0 in /home/iv-provilkov/RND/lib/python3.6/site-packages (from -r requirements.txt (line 65))\n",
      "Requirement already satisfied: rsa==4.0 in /home/iv-provilkov/RND/lib/python3.6/site-packages (from -r requirements.txt (line 66))\n",
      "Requirement already satisfied: scipy==1.4.1 in /home/iv-provilkov/RND/lib/python3.6/site-packages (from -r requirements.txt (line 67))\n",
      "Requirement already satisfied: Send2Trash==1.5.0 in /home/iv-provilkov/RND/lib/python3.6/site-packages (from -r requirements.txt (line 68))\n",
      "Requirement already satisfied: six==1.14.0 in /home/iv-provilkov/RND/lib/python3.6/site-packages (from -r requirements.txt (line 69))\n",
      "Requirement already satisfied: tensorboard==2.2.1 in /home/iv-provilkov/RND/lib/python3.6/site-packages (from -r requirements.txt (line 70))\n",
      "Requirement already satisfied: tensorboard-plugin-wit==1.6.0.post3 in /home/iv-provilkov/RND/lib/python3.6/site-packages (from -r requirements.txt (line 71))\n",
      "Requirement already satisfied: tensorboardX==2.0 in /home/iv-provilkov/RND/lib/python3.6/site-packages (from -r requirements.txt (line 72))\n",
      "Requirement already satisfied: terminado==0.8.3 in /home/iv-provilkov/RND/lib/python3.6/site-packages (from -r requirements.txt (line 73))\n",
      "Requirement already satisfied: testpath==0.4.4 in /home/iv-provilkov/RND/lib/python3.6/site-packages (from -r requirements.txt (line 74))\n",
      "Requirement already satisfied: torch==1.5.0+cu92 in /home/iv-provilkov/RND/lib/python3.6/site-packages (from -r requirements.txt (line 75))\n",
      "Requirement already satisfied: torchvision==0.6.0+cu92 in /home/iv-provilkov/RND/lib/python3.6/site-packages (from -r requirements.txt (line 76))\n",
      "Requirement already satisfied: tornado==6.0.4 in /home/iv-provilkov/RND/lib/python3.6/site-packages (from -r requirements.txt (line 77))\n",
      "Requirement already satisfied: tqdm==4.46.0 in /home/iv-provilkov/RND/lib/python3.6/site-packages (from -r requirements.txt (line 78))\n",
      "Requirement already satisfied: traitlets==4.3.3 in /home/iv-provilkov/RND/lib/python3.6/site-packages (from -r requirements.txt (line 79))\n",
      "Requirement already satisfied: urllib3==1.25.9 in /home/iv-provilkov/RND/lib/python3.6/site-packages (from -r requirements.txt (line 80))\n",
      "Requirement already satisfied: wcwidth==0.1.9 in /home/iv-provilkov/RND/lib/python3.6/site-packages (from -r requirements.txt (line 81))\n",
      "Requirement already satisfied: webencodings==0.5.1 in /home/iv-provilkov/RND/lib/python3.6/site-packages (from -r requirements.txt (line 82))\n",
      "Requirement already satisfied: Werkzeug==1.0.1 in /home/iv-provilkov/RND/lib/python3.6/site-packages (from -r requirements.txt (line 83))\n",
      "Requirement already satisfied: widgetsnbextension==3.5.1 in /home/iv-provilkov/RND/lib/python3.6/site-packages (from -r requirements.txt (line 84))\n",
      "Requirement already satisfied: zipp==3.1.0 in /home/iv-provilkov/RND/lib/python3.6/site-packages (from -r requirements.txt (line 85))\n",
      "Requirement already satisfied: setuptools>=40.3.0 in /home/iv-provilkov/RND/lib/python3.6/site-packages (from google-auth==1.14.2->-r requirements.txt (line 14))\n",
      "Requirement already satisfied: wheel>=0.26; python_version >= \"3\" in /home/iv-provilkov/RND/lib/python3.6/site-packages (from tensorboard==2.2.1->-r requirements.txt (line 70))\n"
     ]
    }
   ],
   "source": [
    "!pip install -r requirements.txt"
   ]
  },
  {
   "cell_type": "markdown",
   "metadata": {},
   "source": [
    "### Запуск агента с обученными весами\n",
    "\n",
    "1. Скачиваем веса из google drive: https://drive.google.com/drive/folders/15RBD-BrWUlylYLR13u7NWRhnMTAb9cWs?usp=sharing\n",
    "2. Пишем путь до весов в config.yaml. \n",
    "Пример: SavePath: \"/home/chervontsev/checkpoints/RndAgentFast.ckpt\"\n",
    "3. Запускаем eval.py скрипт: python eval.py\n",
    "4. Видео игры агента появится в папке MontezumaRevengeNoFrameskip-v4_example_run в корне проекта."
   ]
  },
  {
   "cell_type": "code",
   "execution_count": 24,
   "metadata": {},
   "outputs": [
    {
     "name": "stdout",
     "output_type": "stream",
     "text": [
      "N_updates 10000\n",
      "Finished, total reward is 0\n",
      "All visited rooms: {1}\n"
     ]
    }
   ],
   "source": [
    "!python eval.py"
   ]
  },
  {
   "cell_type": "markdown",
   "metadata": {},
   "source": [
    "**После удачного запуска агентов, когда мы убедились, что алгоритм работает, мы решили поставить себе задачу ускорить процесс обучения, так как обучение на этой среде занимает очень много времени и у нас не очень много ресурсов.**\n",
    "\n",
    "**Этот процесс мы разделили на несколько этапов:**\n",
    "\n",
    "1. После профилирования мы обнаружили, что много времени (~10 секунд на 1 .accumulate_rollout_steps() со 128 лернерами(воркерами)) занимает подготовка статистик необходимых для шага обучения агента, и примерно столько-же времени занимает сам шаг обучения. То есть ГПУ простаивает половину времени.Чтобы решить эту проблему мы решили сделать раздельное обучение actor-а (который собирает статистики необходимые для работы PPO) и learner-а (который делает апдейты оптимайзером) на примере того как это сделано в IMPALA (Включая V-trace).\n",
    "2. Подумали, что стоит переписать имеющийся код на TPU."
   ]
  },
  {
   "cell_type": "markdown",
   "metadata": {},
   "source": [
    "**Мы реализовали пункт 1, что дало нам ускорение примерно в 2.3 раза. Результаты находятся в ветке impala (https://github.com/JanRocketMan/lightning_rnd/tree/impala)**\n",
    "\n",
    "**Второй пункт остается на future work**"
   ]
  },
  {
   "cell_type": "markdown",
   "metadata": {},
   "source": [
    "# Результаты"
   ]
  },
  {
   "cell_type": "markdown",
   "metadata": {},
   "source": [
    "**Нам удалось воспроизвести статью Random Network Distillation.**\n",
    "\n",
    "**Наши эксперименты показали, что с помощью RND агент может учиться без награды от среды. Однако, это занимает больше времени, а также ему труднее попасть в новые комнаты, в которые он как-то попал в прошлый раз. (Так как нет сильного дополнительного реварда от среды).**\n",
    "\n",
    "**Мы реализовали оптимизацию, которая разделяет обучение actor-а и learner-а, что дало нам ускорение в 2.3 раза.**"
   ]
  },
  {
   "cell_type": "code",
   "execution_count": null,
   "metadata": {},
   "outputs": [],
   "source": []
  }
 ],
 "metadata": {
  "kernelspec": {
   "display_name": "Python 3",
   "language": "python",
   "name": "python3"
  },
  "language_info": {
   "codemirror_mode": {
    "name": "ipython",
    "version": 3
   },
   "file_extension": ".py",
   "mimetype": "text/x-python",
   "name": "python",
   "nbconvert_exporter": "python",
   "pygments_lexer": "ipython3",
   "version": "3.6.9"
  }
 },
 "nbformat": 4,
 "nbformat_minor": 4
}
